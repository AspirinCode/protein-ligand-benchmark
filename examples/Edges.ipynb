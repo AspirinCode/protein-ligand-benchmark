version https://git-lfs.github.com/spec/v1
oid sha256:3fbaf0c8cbf0f3ff6a87b7433b9ddf065f47011b1b140ba342e252a124105b15
size 530395
